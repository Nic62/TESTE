{
 "cells": [
  {
   "cell_type": "markdown",
   "metadata": {},
   "source": [
    "# PYTHON "
   ]
  },
  {
   "cell_type": "markdown",
   "metadata": {},
   "source": [
    "obs : NODE.JS NÃO É TÃO MINJHA PRAIA ENTÃO DEMONSTRAREI NO PYTHON"
   ]
  },
  {
   "cell_type": "markdown",
   "metadata": {},
   "source": [
    "1- Replicação dos dados"
   ]
  },
  {
   "cell_type": "code",
   "execution_count": 10,
   "metadata": {},
   "outputs": [
    {
     "name": "stdout",
     "output_type": "stream",
     "text": [
      "Arquivo CSV salvo com sucesso.\n"
     ]
    }
   ],
   "source": [
    "import pandas as pd\n",
    "\n",
    "\n",
    "recintos = [\n",
    "    {'id': 1, 'bioma': 'savana', 'tamanho_total': 10, 'animais_existentes': 'macaco', 'espaço_livre': 5},\n",
    "    {'id': 2, 'bioma': 'floresta', 'tamanho_total': 5, 'animais_existentes': None, 'espaço_livre': 5},\n",
    "    {'id': 3, 'bioma': 'savana e rio', 'tamanho_total': 7, 'animais_existentes': 'gazela', 'espaço_livre': 2},\n",
    "    {'id': 4, 'bioma': 'rio', 'tamanho_total': 8, 'animais_existentes': None, 'espaço_livre': 5},\n",
    "    {'id': 5, 'bioma': 'savana', 'tamanho_total': 9, 'animais_existentes': 'leão', 'espaço_livre': 4}\n",
    "]\n",
    "\n",
    "\n",
    "df_rct = pd.DataFrame(recintos)\n",
    "df_rct.to_csv('recintos_zoo.csv', index=False)\n",
    "print(\"Arquivo CSV salvo com sucesso.\")\n"
   ]
  },
  {
   "cell_type": "markdown",
   "metadata": {},
   "source": [
    "Desta maneira é perceptivel e visualizavel o problema"
   ]
  },
  {
   "cell_type": "code",
   "execution_count": 11,
   "metadata": {},
   "outputs": [
    {
     "data": {
      "text/html": [
       "<div>\n",
       "<style scoped>\n",
       "    .dataframe tbody tr th:only-of-type {\n",
       "        vertical-align: middle;\n",
       "    }\n",
       "\n",
       "    .dataframe tbody tr th {\n",
       "        vertical-align: top;\n",
       "    }\n",
       "\n",
       "    .dataframe thead th {\n",
       "        text-align: right;\n",
       "    }\n",
       "</style>\n",
       "<table border=\"1\" class=\"dataframe\">\n",
       "  <thead>\n",
       "    <tr style=\"text-align: right;\">\n",
       "      <th></th>\n",
       "      <th>id</th>\n",
       "      <th>bioma</th>\n",
       "      <th>tamanho_total</th>\n",
       "      <th>animais_existentes</th>\n",
       "      <th>espaço_livre</th>\n",
       "    </tr>\n",
       "  </thead>\n",
       "  <tbody>\n",
       "    <tr>\n",
       "      <th>0</th>\n",
       "      <td>1</td>\n",
       "      <td>savana</td>\n",
       "      <td>10</td>\n",
       "      <td>macaco</td>\n",
       "      <td>5</td>\n",
       "    </tr>\n",
       "    <tr>\n",
       "      <th>1</th>\n",
       "      <td>2</td>\n",
       "      <td>floresta</td>\n",
       "      <td>5</td>\n",
       "      <td>None</td>\n",
       "      <td>5</td>\n",
       "    </tr>\n",
       "    <tr>\n",
       "      <th>2</th>\n",
       "      <td>3</td>\n",
       "      <td>savana e rio</td>\n",
       "      <td>7</td>\n",
       "      <td>gazela</td>\n",
       "      <td>2</td>\n",
       "    </tr>\n",
       "    <tr>\n",
       "      <th>3</th>\n",
       "      <td>4</td>\n",
       "      <td>rio</td>\n",
       "      <td>8</td>\n",
       "      <td>None</td>\n",
       "      <td>5</td>\n",
       "    </tr>\n",
       "    <tr>\n",
       "      <th>4</th>\n",
       "      <td>5</td>\n",
       "      <td>savana</td>\n",
       "      <td>9</td>\n",
       "      <td>leão</td>\n",
       "      <td>4</td>\n",
       "    </tr>\n",
       "  </tbody>\n",
       "</table>\n",
       "</div>"
      ],
      "text/plain": [
       "   id         bioma  tamanho_total animais_existentes  espaço_livre\n",
       "0   1        savana             10             macaco             5\n",
       "1   2      floresta              5               None             5\n",
       "2   3  savana e rio              7             gazela             2\n",
       "3   4           rio              8               None             5\n",
       "4   5        savana              9               leão             4"
      ]
     },
     "execution_count": 11,
     "metadata": {},
     "output_type": "execute_result"
    }
   ],
   "source": [
    "df_rct"
   ]
  },
  {
   "cell_type": "code",
   "execution_count": 22,
   "metadata": {},
   "outputs": [
    {
     "name": "stdout",
     "output_type": "stream",
     "text": [
      "Recintos sugeridos para macaco: [1, 2, 5]\n",
      "Recintos sugeridos para leão: [1]\n",
      "Recintos sugeridos para gazela: [1, 4, 5]\n",
      "Recintos sugeridos para crocdilo: [4]\n",
      "Recintos sugeridos para hipopótamo: []\n"
     ]
    }
   ],
   "source": [
    "\n",
    "animais = {\n",
    "    'macaco': {'bioma': ['savana', 'floresta'], 'espaço_necessário': 2},\n",
    "    'leão': {'bioma': ['savana'], 'espaço_necessário': 5},\n",
    "    'gazela': {'bioma': ['savana', 'rio'], 'espaço_necessário': 2},\n",
    "    'crocodilo': {'bioma': ['rio'], 'espaço_necessário': 3},\n",
    "    'hipopótamo': {'bioma': ['rio'], 'espaço_necessário': 6}\n",
    "    \n",
    "}\n",
    "\n",
    "\n",
    "def pode_alocar_animal(animal, recinto):\n",
    "    info_animal = animais.get(animal)\n",
    "    if recinto['bioma'] not in info_animal['bioma']:\n",
    "        return False\n",
    "    if recinto['espaço_livre'] < info_animal['espaço_necessário']:\n",
    "        return False\n",
    "    return True\n",
    "\n",
    "\n",
    "def sugerir_recintos(animal):\n",
    "    recintos_adequados = []\n",
    "    \n",
    "    for recinto in recintos:\n",
    "        if pode_alocar_animal(animal, recinto):\n",
    "            recintos_adequados.append(recinto['id'])\n",
    "    \n",
    "    return recintos_adequados\n",
    "\n",
    "\n",
    "sugestao_macaco = sugerir_recintos('macaco')\n",
    "sugestao_leão = sugerir_recintos('leão')\n",
    "sugestao_gazela = sugerir_recintos('gazela')\n",
    "sugestao_crocodilo = sugerir_recintos('crocodilo')\n",
    "sugestao_hipopótamo = sugerir_recintos('hipopótamo')\n",
    "\n",
    "print(f\"Recintos sugeridos para macaco: {sugestao_macaco}\")\n",
    "print(f\"Recintos sugeridos para leão: {sugestao_leão}\")\n",
    "print(f\"Recintos sugeridos para gazela: {sugestao_gazela}\")\n",
    "print(f\"Recintos sugeridos para crocdilo: {sugestao_crocodilo}\")\n",
    "print(f\"Recintos sugeridos para hipopótamo: {sugestao_hipopótamo}\")\n"
   ]
  }
 ],
 "metadata": {
  "kernelspec": {
   "display_name": "base",
   "language": "python",
   "name": "python3"
  },
  "language_info": {
   "codemirror_mode": {
    "name": "ipython",
    "version": 3
   },
   "file_extension": ".py",
   "mimetype": "text/x-python",
   "name": "python",
   "nbconvert_exporter": "python",
   "pygments_lexer": "ipython3",
   "version": "3.11.7"
  }
 },
 "nbformat": 4,
 "nbformat_minor": 2
}
